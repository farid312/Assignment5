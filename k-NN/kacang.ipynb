{
 "cells": [
  {
   "cell_type": "code",
   "execution_count": 47,
   "id": "cdf14e3e",
   "metadata": {},
   "outputs": [],
   "source": [
    "import pandas as pd\n",
    "import numpy as np\n",
    "import matplotlib.pyplot as plt\n",
    "\n",
    "from sklearn.model_selection import train_test_split\n",
    "from sklearn.preprocessing import LabelEncoder,StandardScaler\n",
    "from sklearn.neighbors import KNeighborsClassifier\n",
    "from sklearn.metrics import confusion_matrix\n",
    "from sklearn.metrics import f1_score\n",
    "from sklearn.metrics import accuracy_score\n",
    "from sklearn.metrics import classification_report, confusion_matrix"
   ]
  },
  {
   "cell_type": "code",
   "execution_count": 48,
   "id": "468ea7e6",
   "metadata": {},
   "outputs": [],
   "source": [
    "df = pd.read_excel('Pistachio_28_Features_Dataset.xlsx')"
   ]
  },
  {
   "cell_type": "code",
   "execution_count": 49,
   "id": "6576d044",
   "metadata": {},
   "outputs": [
    {
     "data": {
      "text/html": [
       "<div>\n",
       "<style scoped>\n",
       "    .dataframe tbody tr th:only-of-type {\n",
       "        vertical-align: middle;\n",
       "    }\n",
       "\n",
       "    .dataframe tbody tr th {\n",
       "        vertical-align: top;\n",
       "    }\n",
       "\n",
       "    .dataframe thead th {\n",
       "        text-align: right;\n",
       "    }\n",
       "</style>\n",
       "<table border=\"1\" class=\"dataframe\">\n",
       "  <thead>\n",
       "    <tr style=\"text-align: right;\">\n",
       "      <th></th>\n",
       "      <th>Area</th>\n",
       "      <th>Perimeter</th>\n",
       "      <th>Major_Axis</th>\n",
       "      <th>Minor_Axis</th>\n",
       "      <th>Eccentricity</th>\n",
       "      <th>Eqdiasq</th>\n",
       "      <th>Solidity</th>\n",
       "      <th>Convex_Area</th>\n",
       "      <th>Extent</th>\n",
       "      <th>Aspect_Ratio</th>\n",
       "      <th>...</th>\n",
       "      <th>StdDev_RR</th>\n",
       "      <th>StdDev_RG</th>\n",
       "      <th>StdDev_RB</th>\n",
       "      <th>Skew_RR</th>\n",
       "      <th>Skew_RG</th>\n",
       "      <th>Skew_RB</th>\n",
       "      <th>Kurtosis_RR</th>\n",
       "      <th>Kurtosis_RG</th>\n",
       "      <th>Kurtosis_RB</th>\n",
       "      <th>Class</th>\n",
       "    </tr>\n",
       "  </thead>\n",
       "  <tbody>\n",
       "    <tr>\n",
       "      <th>0</th>\n",
       "      <td>63391</td>\n",
       "      <td>1568.4050</td>\n",
       "      <td>390.3396</td>\n",
       "      <td>236.7461</td>\n",
       "      <td>0.7951</td>\n",
       "      <td>284.0984</td>\n",
       "      <td>0.8665</td>\n",
       "      <td>73160</td>\n",
       "      <td>0.6394</td>\n",
       "      <td>1.6488</td>\n",
       "      <td>...</td>\n",
       "      <td>17.7206</td>\n",
       "      <td>19.6024</td>\n",
       "      <td>21.1342</td>\n",
       "      <td>0.4581</td>\n",
       "      <td>0.6635</td>\n",
       "      <td>0.7591</td>\n",
       "      <td>2.9692</td>\n",
       "      <td>3.0576</td>\n",
       "      <td>2.9542</td>\n",
       "      <td>Kirmizi_Pistachio</td>\n",
       "    </tr>\n",
       "    <tr>\n",
       "      <th>1</th>\n",
       "      <td>68358</td>\n",
       "      <td>1942.1870</td>\n",
       "      <td>410.8594</td>\n",
       "      <td>234.7525</td>\n",
       "      <td>0.8207</td>\n",
       "      <td>295.0188</td>\n",
       "      <td>0.8765</td>\n",
       "      <td>77991</td>\n",
       "      <td>0.6772</td>\n",
       "      <td>1.7502</td>\n",
       "      <td>...</td>\n",
       "      <td>26.7061</td>\n",
       "      <td>27.2112</td>\n",
       "      <td>25.1035</td>\n",
       "      <td>-0.3847</td>\n",
       "      <td>-0.2713</td>\n",
       "      <td>-0.2927</td>\n",
       "      <td>1.9807</td>\n",
       "      <td>2.1006</td>\n",
       "      <td>2.2152</td>\n",
       "      <td>Kirmizi_Pistachio</td>\n",
       "    </tr>\n",
       "    <tr>\n",
       "      <th>2</th>\n",
       "      <td>73589</td>\n",
       "      <td>1246.5380</td>\n",
       "      <td>452.3630</td>\n",
       "      <td>220.5547</td>\n",
       "      <td>0.8731</td>\n",
       "      <td>306.0987</td>\n",
       "      <td>0.9172</td>\n",
       "      <td>80234</td>\n",
       "      <td>0.7127</td>\n",
       "      <td>2.0510</td>\n",
       "      <td>...</td>\n",
       "      <td>19.0129</td>\n",
       "      <td>20.0703</td>\n",
       "      <td>20.7006</td>\n",
       "      <td>-0.6014</td>\n",
       "      <td>-0.4500</td>\n",
       "      <td>0.2998</td>\n",
       "      <td>3.5420</td>\n",
       "      <td>3.6856</td>\n",
       "      <td>4.1012</td>\n",
       "      <td>Kirmizi_Pistachio</td>\n",
       "    </tr>\n",
       "    <tr>\n",
       "      <th>3</th>\n",
       "      <td>71106</td>\n",
       "      <td>1445.2610</td>\n",
       "      <td>429.5291</td>\n",
       "      <td>216.0765</td>\n",
       "      <td>0.8643</td>\n",
       "      <td>300.8903</td>\n",
       "      <td>0.9589</td>\n",
       "      <td>74153</td>\n",
       "      <td>0.7028</td>\n",
       "      <td>1.9879</td>\n",
       "      <td>...</td>\n",
       "      <td>18.1773</td>\n",
       "      <td>18.7152</td>\n",
       "      <td>29.7883</td>\n",
       "      <td>-0.6943</td>\n",
       "      <td>-0.6278</td>\n",
       "      <td>-0.7798</td>\n",
       "      <td>2.8776</td>\n",
       "      <td>2.8748</td>\n",
       "      <td>2.8953</td>\n",
       "      <td>Kirmizi_Pistachio</td>\n",
       "    </tr>\n",
       "    <tr>\n",
       "      <th>4</th>\n",
       "      <td>80087</td>\n",
       "      <td>1251.5240</td>\n",
       "      <td>469.3783</td>\n",
       "      <td>220.9344</td>\n",
       "      <td>0.8823</td>\n",
       "      <td>319.3273</td>\n",
       "      <td>0.9657</td>\n",
       "      <td>82929</td>\n",
       "      <td>0.7459</td>\n",
       "      <td>2.1245</td>\n",
       "      <td>...</td>\n",
       "      <td>23.4298</td>\n",
       "      <td>24.0878</td>\n",
       "      <td>23.1157</td>\n",
       "      <td>-0.9287</td>\n",
       "      <td>-0.8134</td>\n",
       "      <td>-0.4970</td>\n",
       "      <td>2.9915</td>\n",
       "      <td>2.8813</td>\n",
       "      <td>2.7362</td>\n",
       "      <td>Kirmizi_Pistachio</td>\n",
       "    </tr>\n",
       "    <tr>\n",
       "      <th>...</th>\n",
       "      <td>...</td>\n",
       "      <td>...</td>\n",
       "      <td>...</td>\n",
       "      <td>...</td>\n",
       "      <td>...</td>\n",
       "      <td>...</td>\n",
       "      <td>...</td>\n",
       "      <td>...</td>\n",
       "      <td>...</td>\n",
       "      <td>...</td>\n",
       "      <td>...</td>\n",
       "      <td>...</td>\n",
       "      <td>...</td>\n",
       "      <td>...</td>\n",
       "      <td>...</td>\n",
       "      <td>...</td>\n",
       "      <td>...</td>\n",
       "      <td>...</td>\n",
       "      <td>...</td>\n",
       "      <td>...</td>\n",
       "      <td>...</td>\n",
       "    </tr>\n",
       "    <tr>\n",
       "      <th>2143</th>\n",
       "      <td>85983</td>\n",
       "      <td>1157.1160</td>\n",
       "      <td>444.3447</td>\n",
       "      <td>248.8627</td>\n",
       "      <td>0.8284</td>\n",
       "      <td>330.8730</td>\n",
       "      <td>0.9823</td>\n",
       "      <td>87536</td>\n",
       "      <td>0.6799</td>\n",
       "      <td>1.7855</td>\n",
       "      <td>...</td>\n",
       "      <td>20.8474</td>\n",
       "      <td>20.8118</td>\n",
       "      <td>21.1175</td>\n",
       "      <td>-0.6994</td>\n",
       "      <td>-0.7071</td>\n",
       "      <td>-0.6963</td>\n",
       "      <td>2.8853</td>\n",
       "      <td>2.6599</td>\n",
       "      <td>2.6317</td>\n",
       "      <td>Siirt_Pistachio</td>\n",
       "    </tr>\n",
       "    <tr>\n",
       "      <th>2144</th>\n",
       "      <td>85691</td>\n",
       "      <td>2327.3459</td>\n",
       "      <td>439.8794</td>\n",
       "      <td>278.9297</td>\n",
       "      <td>0.7732</td>\n",
       "      <td>330.3107</td>\n",
       "      <td>0.8886</td>\n",
       "      <td>96439</td>\n",
       "      <td>0.6590</td>\n",
       "      <td>1.5770</td>\n",
       "      <td>...</td>\n",
       "      <td>21.2621</td>\n",
       "      <td>22.5004</td>\n",
       "      <td>21.5821</td>\n",
       "      <td>-0.5567</td>\n",
       "      <td>-0.4968</td>\n",
       "      <td>-0.6597</td>\n",
       "      <td>2.3022</td>\n",
       "      <td>2.2664</td>\n",
       "      <td>2.5161</td>\n",
       "      <td>Siirt_Pistachio</td>\n",
       "    </tr>\n",
       "    <tr>\n",
       "      <th>2145</th>\n",
       "      <td>101136</td>\n",
       "      <td>1255.6190</td>\n",
       "      <td>475.2161</td>\n",
       "      <td>271.3299</td>\n",
       "      <td>0.8210</td>\n",
       "      <td>358.8459</td>\n",
       "      <td>0.9888</td>\n",
       "      <td>102286</td>\n",
       "      <td>0.7584</td>\n",
       "      <td>1.7514</td>\n",
       "      <td>...</td>\n",
       "      <td>21.1262</td>\n",
       "      <td>20.0279</td>\n",
       "      <td>17.4401</td>\n",
       "      <td>-0.9072</td>\n",
       "      <td>-0.8790</td>\n",
       "      <td>-0.4470</td>\n",
       "      <td>3.3112</td>\n",
       "      <td>3.4306</td>\n",
       "      <td>3.0697</td>\n",
       "      <td>Siirt_Pistachio</td>\n",
       "    </tr>\n",
       "    <tr>\n",
       "      <th>2146</th>\n",
       "      <td>97409</td>\n",
       "      <td>1195.2150</td>\n",
       "      <td>452.1823</td>\n",
       "      <td>274.5764</td>\n",
       "      <td>0.7945</td>\n",
       "      <td>352.1718</td>\n",
       "      <td>0.9902</td>\n",
       "      <td>98376</td>\n",
       "      <td>0.7635</td>\n",
       "      <td>1.6468</td>\n",
       "      <td>...</td>\n",
       "      <td>19.3274</td>\n",
       "      <td>19.1782</td>\n",
       "      <td>19.8930</td>\n",
       "      <td>-0.9473</td>\n",
       "      <td>-0.8404</td>\n",
       "      <td>-0.3153</td>\n",
       "      <td>3.4237</td>\n",
       "      <td>2.9606</td>\n",
       "      <td>3.0033</td>\n",
       "      <td>Siirt_Pistachio</td>\n",
       "    </tr>\n",
       "    <tr>\n",
       "      <th>2147</th>\n",
       "      <td>78466</td>\n",
       "      <td>2356.9080</td>\n",
       "      <td>445.9131</td>\n",
       "      <td>258.5125</td>\n",
       "      <td>0.8148</td>\n",
       "      <td>316.0791</td>\n",
       "      <td>0.8662</td>\n",
       "      <td>90591</td>\n",
       "      <td>0.6123</td>\n",
       "      <td>1.7249</td>\n",
       "      <td>...</td>\n",
       "      <td>24.5451</td>\n",
       "      <td>25.9279</td>\n",
       "      <td>24.4214</td>\n",
       "      <td>-0.7993</td>\n",
       "      <td>-0.5962</td>\n",
       "      <td>-0.3492</td>\n",
       "      <td>2.5278</td>\n",
       "      <td>2.2248</td>\n",
       "      <td>2.4480</td>\n",
       "      <td>Siirt_Pistachio</td>\n",
       "    </tr>\n",
       "  </tbody>\n",
       "</table>\n",
       "<p>2148 rows × 29 columns</p>\n",
       "</div>"
      ],
      "text/plain": [
       "        Area  Perimeter  Major_Axis  Minor_Axis  Eccentricity   Eqdiasq  \\\n",
       "0      63391  1568.4050    390.3396    236.7461        0.7951  284.0984   \n",
       "1      68358  1942.1870    410.8594    234.7525        0.8207  295.0188   \n",
       "2      73589  1246.5380    452.3630    220.5547        0.8731  306.0987   \n",
       "3      71106  1445.2610    429.5291    216.0765        0.8643  300.8903   \n",
       "4      80087  1251.5240    469.3783    220.9344        0.8823  319.3273   \n",
       "...      ...        ...         ...         ...           ...       ...   \n",
       "2143   85983  1157.1160    444.3447    248.8627        0.8284  330.8730   \n",
       "2144   85691  2327.3459    439.8794    278.9297        0.7732  330.3107   \n",
       "2145  101136  1255.6190    475.2161    271.3299        0.8210  358.8459   \n",
       "2146   97409  1195.2150    452.1823    274.5764        0.7945  352.1718   \n",
       "2147   78466  2356.9080    445.9131    258.5125        0.8148  316.0791   \n",
       "\n",
       "      Solidity  Convex_Area  Extent  Aspect_Ratio  ...  StdDev_RR  StdDev_RG  \\\n",
       "0       0.8665        73160  0.6394        1.6488  ...    17.7206    19.6024   \n",
       "1       0.8765        77991  0.6772        1.7502  ...    26.7061    27.2112   \n",
       "2       0.9172        80234  0.7127        2.0510  ...    19.0129    20.0703   \n",
       "3       0.9589        74153  0.7028        1.9879  ...    18.1773    18.7152   \n",
       "4       0.9657        82929  0.7459        2.1245  ...    23.4298    24.0878   \n",
       "...        ...          ...     ...           ...  ...        ...        ...   \n",
       "2143    0.9823        87536  0.6799        1.7855  ...    20.8474    20.8118   \n",
       "2144    0.8886        96439  0.6590        1.5770  ...    21.2621    22.5004   \n",
       "2145    0.9888       102286  0.7584        1.7514  ...    21.1262    20.0279   \n",
       "2146    0.9902        98376  0.7635        1.6468  ...    19.3274    19.1782   \n",
       "2147    0.8662        90591  0.6123        1.7249  ...    24.5451    25.9279   \n",
       "\n",
       "      StdDev_RB  Skew_RR  Skew_RG  Skew_RB  Kurtosis_RR  Kurtosis_RG  \\\n",
       "0       21.1342   0.4581   0.6635   0.7591       2.9692       3.0576   \n",
       "1       25.1035  -0.3847  -0.2713  -0.2927       1.9807       2.1006   \n",
       "2       20.7006  -0.6014  -0.4500   0.2998       3.5420       3.6856   \n",
       "3       29.7883  -0.6943  -0.6278  -0.7798       2.8776       2.8748   \n",
       "4       23.1157  -0.9287  -0.8134  -0.4970       2.9915       2.8813   \n",
       "...         ...      ...      ...      ...          ...          ...   \n",
       "2143    21.1175  -0.6994  -0.7071  -0.6963       2.8853       2.6599   \n",
       "2144    21.5821  -0.5567  -0.4968  -0.6597       2.3022       2.2664   \n",
       "2145    17.4401  -0.9072  -0.8790  -0.4470       3.3112       3.4306   \n",
       "2146    19.8930  -0.9473  -0.8404  -0.3153       3.4237       2.9606   \n",
       "2147    24.4214  -0.7993  -0.5962  -0.3492       2.5278       2.2248   \n",
       "\n",
       "      Kurtosis_RB              Class  \n",
       "0          2.9542  Kirmizi_Pistachio  \n",
       "1          2.2152  Kirmizi_Pistachio  \n",
       "2          4.1012  Kirmizi_Pistachio  \n",
       "3          2.8953  Kirmizi_Pistachio  \n",
       "4          2.7362  Kirmizi_Pistachio  \n",
       "...           ...                ...  \n",
       "2143       2.6317    Siirt_Pistachio  \n",
       "2144       2.5161    Siirt_Pistachio  \n",
       "2145       3.0697    Siirt_Pistachio  \n",
       "2146       3.0033    Siirt_Pistachio  \n",
       "2147       2.4480    Siirt_Pistachio  \n",
       "\n",
       "[2148 rows x 29 columns]"
      ]
     },
     "execution_count": 49,
     "metadata": {},
     "output_type": "execute_result"
    }
   ],
   "source": [
    "df"
   ]
  },
  {
   "cell_type": "code",
   "execution_count": 50,
   "id": "8134d80f",
   "metadata": {},
   "outputs": [],
   "source": [
    "x = df.drop(['Class'],axis=1)"
   ]
  },
  {
   "cell_type": "code",
   "execution_count": 51,
   "id": "4703aa49",
   "metadata": {},
   "outputs": [],
   "source": [
    "y = df['Class']"
   ]
  },
  {
   "cell_type": "code",
   "execution_count": 52,
   "id": "ed801803",
   "metadata": {},
   "outputs": [
    {
     "data": {
      "text/html": [
       "<div>\n",
       "<style scoped>\n",
       "    .dataframe tbody tr th:only-of-type {\n",
       "        vertical-align: middle;\n",
       "    }\n",
       "\n",
       "    .dataframe tbody tr th {\n",
       "        vertical-align: top;\n",
       "    }\n",
       "\n",
       "    .dataframe thead th {\n",
       "        text-align: right;\n",
       "    }\n",
       "</style>\n",
       "<table border=\"1\" class=\"dataframe\">\n",
       "  <thead>\n",
       "    <tr style=\"text-align: right;\">\n",
       "      <th></th>\n",
       "      <th>Area</th>\n",
       "      <th>Perimeter</th>\n",
       "      <th>Major_Axis</th>\n",
       "      <th>Minor_Axis</th>\n",
       "      <th>Eccentricity</th>\n",
       "      <th>Eqdiasq</th>\n",
       "      <th>Solidity</th>\n",
       "      <th>Convex_Area</th>\n",
       "      <th>Extent</th>\n",
       "      <th>Aspect_Ratio</th>\n",
       "      <th>...</th>\n",
       "      <th>Mean_RB</th>\n",
       "      <th>StdDev_RR</th>\n",
       "      <th>StdDev_RG</th>\n",
       "      <th>StdDev_RB</th>\n",
       "      <th>Skew_RR</th>\n",
       "      <th>Skew_RG</th>\n",
       "      <th>Skew_RB</th>\n",
       "      <th>Kurtosis_RR</th>\n",
       "      <th>Kurtosis_RG</th>\n",
       "      <th>Kurtosis_RB</th>\n",
       "    </tr>\n",
       "  </thead>\n",
       "  <tbody>\n",
       "    <tr>\n",
       "      <th>0</th>\n",
       "      <td>63391</td>\n",
       "      <td>1568.405</td>\n",
       "      <td>390.3396</td>\n",
       "      <td>236.7461</td>\n",
       "      <td>0.7951</td>\n",
       "      <td>284.0984</td>\n",
       "      <td>0.8665</td>\n",
       "      <td>73160</td>\n",
       "      <td>0.6394</td>\n",
       "      <td>1.6488</td>\n",
       "      <td>...</td>\n",
       "      <td>165.3167</td>\n",
       "      <td>17.7206</td>\n",
       "      <td>19.6024</td>\n",
       "      <td>21.1342</td>\n",
       "      <td>0.4581</td>\n",
       "      <td>0.6635</td>\n",
       "      <td>0.7591</td>\n",
       "      <td>2.9692</td>\n",
       "      <td>3.0576</td>\n",
       "      <td>2.9542</td>\n",
       "    </tr>\n",
       "    <tr>\n",
       "      <th>1</th>\n",
       "      <td>68358</td>\n",
       "      <td>1942.187</td>\n",
       "      <td>410.8594</td>\n",
       "      <td>234.7525</td>\n",
       "      <td>0.8207</td>\n",
       "      <td>295.0188</td>\n",
       "      <td>0.8765</td>\n",
       "      <td>77991</td>\n",
       "      <td>0.6772</td>\n",
       "      <td>1.7502</td>\n",
       "      <td>...</td>\n",
       "      <td>187.3744</td>\n",
       "      <td>26.7061</td>\n",
       "      <td>27.2112</td>\n",
       "      <td>25.1035</td>\n",
       "      <td>-0.3847</td>\n",
       "      <td>-0.2713</td>\n",
       "      <td>-0.2927</td>\n",
       "      <td>1.9807</td>\n",
       "      <td>2.1006</td>\n",
       "      <td>2.2152</td>\n",
       "    </tr>\n",
       "    <tr>\n",
       "      <th>2</th>\n",
       "      <td>73589</td>\n",
       "      <td>1246.538</td>\n",
       "      <td>452.3630</td>\n",
       "      <td>220.5547</td>\n",
       "      <td>0.8731</td>\n",
       "      <td>306.0987</td>\n",
       "      <td>0.9172</td>\n",
       "      <td>80234</td>\n",
       "      <td>0.7127</td>\n",
       "      <td>2.0510</td>\n",
       "      <td>...</td>\n",
       "      <td>187.7118</td>\n",
       "      <td>19.0129</td>\n",
       "      <td>20.0703</td>\n",
       "      <td>20.7006</td>\n",
       "      <td>-0.6014</td>\n",
       "      <td>-0.4500</td>\n",
       "      <td>0.2998</td>\n",
       "      <td>3.5420</td>\n",
       "      <td>3.6856</td>\n",
       "      <td>4.1012</td>\n",
       "    </tr>\n",
       "    <tr>\n",
       "      <th>3</th>\n",
       "      <td>71106</td>\n",
       "      <td>1445.261</td>\n",
       "      <td>429.5291</td>\n",
       "      <td>216.0765</td>\n",
       "      <td>0.8643</td>\n",
       "      <td>300.8903</td>\n",
       "      <td>0.9589</td>\n",
       "      <td>74153</td>\n",
       "      <td>0.7028</td>\n",
       "      <td>1.9879</td>\n",
       "      <td>...</td>\n",
       "      <td>187.9537</td>\n",
       "      <td>18.1773</td>\n",
       "      <td>18.7152</td>\n",
       "      <td>29.7883</td>\n",
       "      <td>-0.6943</td>\n",
       "      <td>-0.6278</td>\n",
       "      <td>-0.7798</td>\n",
       "      <td>2.8776</td>\n",
       "      <td>2.8748</td>\n",
       "      <td>2.8953</td>\n",
       "    </tr>\n",
       "    <tr>\n",
       "      <th>4</th>\n",
       "      <td>80087</td>\n",
       "      <td>1251.524</td>\n",
       "      <td>469.3783</td>\n",
       "      <td>220.9344</td>\n",
       "      <td>0.8823</td>\n",
       "      <td>319.3273</td>\n",
       "      <td>0.9657</td>\n",
       "      <td>82929</td>\n",
       "      <td>0.7459</td>\n",
       "      <td>2.1245</td>\n",
       "      <td>...</td>\n",
       "      <td>194.4906</td>\n",
       "      <td>23.4298</td>\n",
       "      <td>24.0878</td>\n",
       "      <td>23.1157</td>\n",
       "      <td>-0.9287</td>\n",
       "      <td>-0.8134</td>\n",
       "      <td>-0.4970</td>\n",
       "      <td>2.9915</td>\n",
       "      <td>2.8813</td>\n",
       "      <td>2.7362</td>\n",
       "    </tr>\n",
       "  </tbody>\n",
       "</table>\n",
       "<p>5 rows × 28 columns</p>\n",
       "</div>"
      ],
      "text/plain": [
       "    Area  Perimeter  Major_Axis  Minor_Axis  Eccentricity   Eqdiasq  Solidity  \\\n",
       "0  63391   1568.405    390.3396    236.7461        0.7951  284.0984    0.8665   \n",
       "1  68358   1942.187    410.8594    234.7525        0.8207  295.0188    0.8765   \n",
       "2  73589   1246.538    452.3630    220.5547        0.8731  306.0987    0.9172   \n",
       "3  71106   1445.261    429.5291    216.0765        0.8643  300.8903    0.9589   \n",
       "4  80087   1251.524    469.3783    220.9344        0.8823  319.3273    0.9657   \n",
       "\n",
       "   Convex_Area  Extent  Aspect_Ratio  ...   Mean_RB  StdDev_RR  StdDev_RG  \\\n",
       "0        73160  0.6394        1.6488  ...  165.3167    17.7206    19.6024   \n",
       "1        77991  0.6772        1.7502  ...  187.3744    26.7061    27.2112   \n",
       "2        80234  0.7127        2.0510  ...  187.7118    19.0129    20.0703   \n",
       "3        74153  0.7028        1.9879  ...  187.9537    18.1773    18.7152   \n",
       "4        82929  0.7459        2.1245  ...  194.4906    23.4298    24.0878   \n",
       "\n",
       "   StdDev_RB  Skew_RR  Skew_RG  Skew_RB  Kurtosis_RR  Kurtosis_RG  Kurtosis_RB  \n",
       "0    21.1342   0.4581   0.6635   0.7591       2.9692       3.0576       2.9542  \n",
       "1    25.1035  -0.3847  -0.2713  -0.2927       1.9807       2.1006       2.2152  \n",
       "2    20.7006  -0.6014  -0.4500   0.2998       3.5420       3.6856       4.1012  \n",
       "3    29.7883  -0.6943  -0.6278  -0.7798       2.8776       2.8748       2.8953  \n",
       "4    23.1157  -0.9287  -0.8134  -0.4970       2.9915       2.8813       2.7362  \n",
       "\n",
       "[5 rows x 28 columns]"
      ]
     },
     "execution_count": 52,
     "metadata": {},
     "output_type": "execute_result"
    }
   ],
   "source": [
    "x.head()"
   ]
  },
  {
   "cell_type": "code",
   "execution_count": 53,
   "id": "961a9cb9",
   "metadata": {},
   "outputs": [
    {
     "data": {
      "text/plain": [
       "0       Kirmizi_Pistachio\n",
       "1       Kirmizi_Pistachio\n",
       "2       Kirmizi_Pistachio\n",
       "3       Kirmizi_Pistachio\n",
       "4       Kirmizi_Pistachio\n",
       "              ...        \n",
       "2143      Siirt_Pistachio\n",
       "2144      Siirt_Pistachio\n",
       "2145      Siirt_Pistachio\n",
       "2146      Siirt_Pistachio\n",
       "2147      Siirt_Pistachio\n",
       "Name: Class, Length: 2148, dtype: object"
      ]
     },
     "execution_count": 53,
     "metadata": {},
     "output_type": "execute_result"
    }
   ],
   "source": [
    "y"
   ]
  },
  {
   "cell_type": "code",
   "execution_count": 54,
   "id": "26b35ee1",
   "metadata": {},
   "outputs": [
    {
     "name": "stdout",
     "output_type": "stream",
     "text": [
      "<class 'pandas.core.frame.DataFrame'>\n",
      "RangeIndex: 2148 entries, 0 to 2147\n",
      "Data columns (total 29 columns):\n",
      " #   Column         Non-Null Count  Dtype  \n",
      "---  ------         --------------  -----  \n",
      " 0   Area           2148 non-null   int64  \n",
      " 1   Perimeter      2148 non-null   float64\n",
      " 2   Major_Axis     2148 non-null   float64\n",
      " 3   Minor_Axis     2148 non-null   float64\n",
      " 4   Eccentricity   2148 non-null   float64\n",
      " 5   Eqdiasq        2148 non-null   float64\n",
      " 6   Solidity       2148 non-null   float64\n",
      " 7   Convex_Area    2148 non-null   int64  \n",
      " 8   Extent         2148 non-null   float64\n",
      " 9   Aspect_Ratio   2148 non-null   float64\n",
      " 10  Roundness      2148 non-null   float64\n",
      " 11  Compactness    2148 non-null   float64\n",
      " 12  Shapefactor_1  2148 non-null   float64\n",
      " 13  Shapefactor_2  2148 non-null   float64\n",
      " 14  Shapefactor_3  2148 non-null   float64\n",
      " 15  Shapefactor_4  2148 non-null   float64\n",
      " 16  Mean_RR        2148 non-null   float64\n",
      " 17  Mean_RG        2148 non-null   float64\n",
      " 18  Mean_RB        2148 non-null   float64\n",
      " 19  StdDev_RR      2148 non-null   float64\n",
      " 20  StdDev_RG      2148 non-null   float64\n",
      " 21  StdDev_RB      2148 non-null   float64\n",
      " 22  Skew_RR        2148 non-null   float64\n",
      " 23  Skew_RG        2148 non-null   float64\n",
      " 24  Skew_RB        2148 non-null   float64\n",
      " 25  Kurtosis_RR    2148 non-null   float64\n",
      " 26  Kurtosis_RG    2148 non-null   float64\n",
      " 27  Kurtosis_RB    2148 non-null   float64\n",
      " 28  Class          2148 non-null   object \n",
      "dtypes: float64(26), int64(2), object(1)\n",
      "memory usage: 486.8+ KB\n"
     ]
    }
   ],
   "source": [
    "df.info()"
   ]
  },
  {
   "cell_type": "code",
   "execution_count": 55,
   "id": "9ffc3c87",
   "metadata": {},
   "outputs": [
    {
     "data": {
      "text/plain": [
       "Class\n",
       "Kirmizi_Pistachio    1232\n",
       "Siirt_Pistachio       916\n",
       "dtype: int64"
      ]
     },
     "execution_count": 55,
     "metadata": {},
     "output_type": "execute_result"
    }
   ],
   "source": [
    "df.groupby('Class').size()"
   ]
  },
  {
   "cell_type": "code",
   "execution_count": 56,
   "id": "3ed0bee1",
   "metadata": {},
   "outputs": [
    {
     "data": {
      "text/plain": [
       "(array([1232.,    0.,    0.,    0.,    0.,    0.,    0.,    0.,    0.,\n",
       "         916.]),\n",
       " array([0. , 0.1, 0.2, 0.3, 0.4, 0.5, 0.6, 0.7, 0.8, 0.9, 1. ]),\n",
       " <BarContainer object of 10 artists>)"
      ]
     },
     "execution_count": 56,
     "metadata": {},
     "output_type": "execute_result"
    },
    {
     "data": {
      "image/png": "[encoded data removed]",
      "text/plain": [
       "<Figure size 432x288 with 1 Axes>"
      ]
     },
     "metadata": {
      "needs_background": "light"
     },
     "output_type": "display_data"
    }
   ],
   "source": [
    "plt.hist(df['Class'], color = 'blue')"
   ]
  },
  {
   "cell_type": "code",
   "execution_count": 57,
   "id": "43fd0c85",
   "metadata": {},
   "outputs": [],
   "source": [
    "encoder = LabelEncoder()\n",
    "y = encoder.fit_transform(y)\n",
    "\n",
    "scaler = StandardScaler()\n",
    "X = scaler.fit_transform(x)"
   ]
  },
  {
   "cell_type": "code",
   "execution_count": 58,
   "id": "5dcb9396",
   "metadata": {},
   "outputs": [
    {
     "data": {
      "text/plain": [
       "array([[-1.26229557,  0.3793384 , -1.72358958, ..., -0.11555997,\n",
       "         0.23737327,  0.01817042],\n",
       "       [-0.88367525,  1.3748213 , -1.09099947, ..., -1.46261734,\n",
       "        -1.23215144, -0.96716768],\n",
       "       [-0.48493096, -0.47788077,  0.18848508, ...,  0.66501106,\n",
       "         1.20170087,  1.54751115],\n",
       "       ...,\n",
       "       [ 1.61489872, -0.45369561,  0.89300681, ...,  0.35049326,\n",
       "         0.81013473,  0.17217116],\n",
       "       [ 1.33080009, -0.61456785,  0.18291441, ...,  0.50380025,\n",
       "         0.08842458,  0.0836374 ],\n",
       "       [-0.11317108,  2.47933587, -0.01035424, ..., -0.71706844,\n",
       "        -1.04143569, -0.65676618]])"
      ]
     },
     "execution_count": 58,
     "metadata": {},
     "output_type": "execute_result"
    }
   ],
   "source": [
    "X"
   ]
  },
  {
   "cell_type": "code",
   "execution_count": 59,
   "id": "59670b02",
   "metadata": {},
   "outputs": [
    {
     "data": {
      "text/plain": [
       "array([0, 0, 0, ..., 1, 1, 1])"
      ]
     },
     "execution_count": 59,
     "metadata": {},
     "output_type": "execute_result"
    }
   ],
   "source": [
    "y"
   ]
  },
  {
   "cell_type": "code",
   "execution_count": 68,
   "id": "83bfdc79",
   "metadata": {},
   "outputs": [],
   "source": [
    "X_train, X_test, y_train, y_test = train_test_split(x,y, test_size = 0.2, random_state = 5)"
   ]
  },
  {
   "cell_type": "code",
   "execution_count": 69,
   "id": "dde86c2d",
   "metadata": {},
   "outputs": [],
   "source": [
    "knn = KNeighborsClassifier(n_neighbors=51)"
   ]
  },
  {
   "cell_type": "code",
   "execution_count": 70,
   "id": "9e53527d",
   "metadata": {},
   "outputs": [
    {
     "data": {
      "text/plain": [
       "KNeighborsClassifier(n_neighbors=51)"
      ]
     },
     "execution_count": 70,
     "metadata": {},
     "output_type": "execute_result"
    }
   ],
   "source": [
    "# learning\n",
    "knn.fit(X_train, y_train)"
   ]
  },
  {
   "cell_type": "code",
   "execution_count": 71,
   "id": "67d366e1",
   "metadata": {},
   "outputs": [],
   "source": [
    "y_predict = knn.predict(X_test)"
   ]
  },
  {
   "cell_type": "code",
   "execution_count": 72,
   "id": "2bc18e2d",
   "metadata": {},
   "outputs": [
    {
     "data": {
      "text/plain": [
       "0.8046511627906977"
      ]
     },
     "execution_count": 72,
     "metadata": {},
     "output_type": "execute_result"
    }
   ],
   "source": [
    "np.mean(y_predict == y_test)"
   ]
  },
  {
   "cell_type": "code",
   "execution_count": 73,
   "id": "8301ad97",
   "metadata": {},
   "outputs": [
    {
     "name": "stdout",
     "output_type": "stream",
     "text": [
      "[[220  32]\n",
      " [ 52 126]]\n"
     ]
    }
   ],
   "source": [
    "print(confusion_matrix(y_test, y_predict))"
   ]
  },
  {
   "cell_type": "code",
   "execution_count": 74,
   "id": "f9df52c5",
   "metadata": {},
   "outputs": [
    {
     "name": "stdout",
     "output_type": "stream",
     "text": [
      "              precision    recall  f1-score   support\n",
      "\n",
      "           0       0.81      0.87      0.84       252\n",
      "           1       0.80      0.71      0.75       178\n",
      "\n",
      "    accuracy                           0.80       430\n",
      "   macro avg       0.80      0.79      0.79       430\n",
      "weighted avg       0.80      0.80      0.80       430\n",
      "\n"
     ]
    }
   ],
   "source": [
    "print(classification_report(y_test, y_predict))"
   ]
  },
  {
   "cell_type": "code",
   "execution_count": 75,
   "id": "229f20e2",
   "metadata": {},
   "outputs": [
    {
     "data": {
      "text/plain": [
       "0.8046511627906977"
      ]
     },
     "execution_count": 75,
     "metadata": {},
     "output_type": "execute_result"
    }
   ],
   "source": [
    "accuracy= accuracy_score(y_test, y_predict)\n",
    "accuracy"
   ]
  },
  {
   "cell_type": "code",
   "execution_count": null,
   "id": "94b0a91c",
   "metadata": {},
   "outputs": [],
   "source": []
  }
 ],
 "metadata": {
  "kernelspec": {
   "display_name": "Python 3 (ipykernel)",
   "language": "python",
   "name": "python3"
  },
  "language_info": {
   "codemirror_mode": {
    "name": "ipython",
    "version": 3
   },
   "file_extension": ".py",
   "mimetype": "text/x-python",
   "name": "python",
   "nbconvert_exporter": "python",
   "pygments_lexer": "ipython3",
   "version": "3.9.12"
  }
 },
 "nbformat": 4,
 "nbformat_minor": 5
}
